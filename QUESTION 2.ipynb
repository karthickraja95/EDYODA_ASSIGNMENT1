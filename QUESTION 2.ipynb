{
 "cells": [
  {
   "cell_type": "markdown",
   "id": "d7ddbeb9",
   "metadata": {},
   "source": [
    "# REVERSE A STRING"
   ]
  },
  {
   "cell_type": "markdown",
   "id": "c738a164",
   "metadata": {},
   "source": [
    "# METHOD 1 (USING FOR LOOP)"
   ]
  },
  {
   "cell_type": "code",
   "execution_count": 2,
   "id": "84794a43",
   "metadata": {},
   "outputs": [
    {
     "name": "stdout",
     "output_type": "stream",
     "text": [
      "adoydE"
     ]
    }
   ],
   "source": [
    "given_string = \"Edyoda\"\n",
    "for i in range(len(given_string)-1,-1,-1):\n",
    "    print(given_string[i], end=\"\")"
   ]
  },
  {
   "cell_type": "markdown",
   "id": "40fe2314",
   "metadata": {},
   "source": [
    "# METHOD 2 (SLICING)"
   ]
  },
  {
   "cell_type": "code",
   "execution_count": 3,
   "id": "95a55975",
   "metadata": {},
   "outputs": [
    {
     "name": "stdout",
     "output_type": "stream",
     "text": [
      "adoydE\n"
     ]
    }
   ],
   "source": [
    "string = \"Edyoda\"\n",
    "print (string [: :-1])"
   ]
  },
  {
   "cell_type": "code",
   "execution_count": null,
   "id": "672e1160",
   "metadata": {},
   "outputs": [],
   "source": []
  }
 ],
 "metadata": {
  "kernelspec": {
   "display_name": "Python 3 (ipykernel)",
   "language": "python",
   "name": "python3"
  },
  "language_info": {
   "codemirror_mode": {
    "name": "ipython",
    "version": 3
   },
   "file_extension": ".py",
   "mimetype": "text/x-python",
   "name": "python",
   "nbconvert_exporter": "python",
   "pygments_lexer": "ipython3",
   "version": "3.10.1"
  }
 },
 "nbformat": 4,
 "nbformat_minor": 5
}
