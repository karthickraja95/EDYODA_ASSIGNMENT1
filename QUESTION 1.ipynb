{
 "cells": [
  {
   "cell_type": "markdown",
   "id": "45ee6325",
   "metadata": {},
   "source": [
    "# FIBONACCI SERIES"
   ]
  },
  {
   "cell_type": "code",
   "execution_count": 1,
   "id": "4ccfc60e",
   "metadata": {},
   "outputs": [
    {
     "name": "stdout",
     "output_type": "stream",
     "text": [
      "ENTER THE RANGE:   5\n",
      "0\n",
      "1\n",
      "1\n",
      "2\n",
      "3\n"
     ]
    }
   ],
   "source": [
    "N=int(input(\"ENTER THE RANGE:   \"))\n",
    "N1=0\n",
    "N2=1\n",
    "\n",
    "for i in range(N):\n",
    "    print(N1)\n",
    "    N3=N1\n",
    "    N1=N2\n",
    "    N2=N3+N2"
   ]
  },
  {
   "cell_type": "code",
   "execution_count": null,
   "id": "78d17ec1",
   "metadata": {},
   "outputs": [],
   "source": []
  }
 ],
 "metadata": {
  "kernelspec": {
   "display_name": "Python 3 (ipykernel)",
   "language": "python",
   "name": "python3"
  },
  "language_info": {
   "codemirror_mode": {
    "name": "ipython",
    "version": 3
   },
   "file_extension": ".py",
   "mimetype": "text/x-python",
   "name": "python",
   "nbconvert_exporter": "python",
   "pygments_lexer": "ipython3",
   "version": "3.10.1"
  }
 },
 "nbformat": 4,
 "nbformat_minor": 5
}
